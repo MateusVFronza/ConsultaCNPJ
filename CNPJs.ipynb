{
  "nbformat": 4,
  "nbformat_minor": 0,
  "metadata": {
    "colab": {
      "name": "CNPJs",
      "provenance": [],
      "collapsed_sections": [],
      "authorship_tag": "ABX9TyMVSWEeUuzLGQeaaqE7OvMT",
      "include_colab_link": true
    },
    "kernelspec": {
      "name": "python3",
      "display_name": "Python 3"
    },
    "language_info": {
      "name": "python"
    }
  },
  "cells": [
    {
      "cell_type": "markdown",
      "metadata": {
        "id": "view-in-github",
        "colab_type": "text"
      },
      "source": [
        "<a href=\"https://colab.research.google.com/github/MateusVFronza/ConsultaCNPJ/blob/main/CNPJs.ipynb\" target=\"_parent\"><img src=\"https://colab.research.google.com/assets/colab-badge.svg\" alt=\"Open In Colab\"/></a>"
      ]
    },
    {
      "cell_type": "markdown",
      "source": [
        "# Consulta de CNPJs"
      ],
      "metadata": {
        "id": "_nMsMw7i_EsJ"
      }
    },
    {
      "cell_type": "markdown",
      "source": [
        "Este repositório tem como finalidade criar uma automação a partir da API ReceitaWS. </br>\n",
        "\n",
        "Vídeo inspiração: https://bit.ly/3Ji9P6a </br>\n",
        "GitHub da PyTax: https://github.com/pytax/Sistema-de-cadastro\n",
        "\n"
      ],
      "metadata": {
        "id": "LvARrYtF_Khb"
      }
    },
    {
      "cell_type": "markdown",
      "source": [
        "## Libs"
      ],
      "metadata": {
        "id": "XX8tgcoq_Irn"
      }
    },
    {
      "cell_type": "code",
      "source": [
        "import requests\n",
        "import json\n",
        "import time\n",
        "import pandas as pd"
      ],
      "metadata": {
        "id": "a7Bvm1oy_H4V"
      },
      "execution_count": null,
      "outputs": []
    },
    {
      "cell_type": "markdown",
      "source": [
        "## Estrutura"
      ],
      "metadata": {
        "id": "6K5sRYHV_WtQ"
      }
    },
    {
      "cell_type": "code",
      "source": [
        "def consulta_cnpj(cnpj):\n",
        "  url = f\"https://receitaws.com.br/v1/cnpj/{cnpj}\"\n",
        "  querystring = {\"token\":\"*\",\"cnpj\":'06990590000123',\"plugin\":\"RF\"} \n",
        "  response = requests.request(\"GET\", url, params=querystring)\n",
        "  resp = json.loads(response.text)\n",
        "  return resp['nome'],resp['cnpj'],resp['situacao']\n",
        "\n",
        "  # *: substitua essa string pelo token da API da RF obtido no site https://www.sintegraws.com.br/"
      ],
      "metadata": {
        "id": "Wp2mgk5N_X_W"
      },
      "execution_count": null,
      "outputs": []
    },
    {
      "cell_type": "markdown",
      "source": [
        "## Usando uma lista de CNPJs"
      ],
      "metadata": {
        "id": "ayvg-HHU_d6y"
      }
    },
    {
      "cell_type": "code",
      "source": [
        "#Usand o pandas\n",
        "base = pd.read_csv('/content/CNPJs - Página1.csv', header = 0, dtype = {'CNPJ':'str'})\n",
        "base_lista = base.values.tolist() # convertido para lista\n",
        "\n",
        "# remover a listra de dentro da lista\n",
        "lista_ref = []\n",
        "for i in base_lista:\n",
        "  lista_ref.append(i[0])\n",
        "\n",
        " # tamanho da lista de CNPJs\n",
        "len(lista_ref)\n"
      ],
      "metadata": {
        "colab": {
          "base_uri": "https://localhost:8080/"
        },
        "id": "guO6F8um_gHh",
        "outputId": "03a45ac5-5998-47f0-ab0e-0c216b9d97f2"
      },
      "execution_count": null,
      "outputs": [
        {
          "output_type": "execute_result",
          "data": {
            "text/plain": [
              "4"
            ]
          },
          "metadata": {},
          "execution_count": 4
        }
      ]
    },
    {
      "cell_type": "markdown",
      "source": [
        "## Consulta"
      ],
      "metadata": {
        "id": "9HuFaxMIAd4x"
      }
    },
    {
      "cell_type": "code",
      "source": [
        "# Consulta\n",
        "lista = []\n",
        "for i in lista_ref:\n",
        "  a = consulta_cnpj(str(i))\n",
        "  lista.append(str(a))\n",
        "  print(len(lista))\n",
        "  time.sleep(20) #só é possível fazer 3 consultas por minuto\n"
      ],
      "metadata": {
        "colab": {
          "base_uri": "https://localhost:8080/"
        },
        "id": "Jcp9nASsAUm6",
        "outputId": "dd7ca3d7-488b-4f56-fa20-f9fd0f45b93e"
      },
      "execution_count": null,
      "outputs": [
        {
          "output_type": "stream",
          "name": "stdout",
          "text": [
            "1\n",
            "2\n",
            "3\n",
            "4\n"
          ]
        }
      ]
    },
    {
      "cell_type": "code",
      "source": [
        "#listagem da situação dos cnpjs\n",
        "print(len(lista))\n",
        "for i in lista:\n",
        "  print(i)\n"
      ],
      "metadata": {
        "colab": {
          "base_uri": "https://localhost:8080/"
        },
        "id": "Jhbzj7omAsnf",
        "outputId": "93673e74-7d5f-4bb9-c1ef-80db305b9ac0"
      },
      "execution_count": null,
      "outputs": [
        {
          "output_type": "stream",
          "name": "stdout",
          "text": [
            "4\n",
            "('SPOTIFY BRASIL SERVICOS DE MUSICA LTDA.', '17.687.734/0001-93', 'ATIVA')\n",
            "('NETFLIX ENTRETENIMENTO BRASIL LTDA.', '13.590.585/0001-99', 'ATIVA')\n",
            "('AMAZON SERVICOS DE VAREJO DO BRASIL LTDA.', '15.436.940/0001-03', 'ATIVA')\n",
            "('DEEZER MUSIC BRASIL LTDA.', '18.111.886/0001-06', 'ATIVA')\n"
          ]
        }
      ]
    }
  ]
}